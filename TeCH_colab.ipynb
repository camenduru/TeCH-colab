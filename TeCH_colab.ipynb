{
  "cells": [
    {
      "cell_type": "markdown",
      "metadata": {
        "id": "view-in-github"
      },
      "source": [
        "[![Open In Colab](https://colab.research.google.com/assets/colab-badge.svg)](https://colab.research.google.com/github/camenduru/TeCH-colab/blob/main/TeCH_colab.ipynb)"
      ]
    },
    {
      "cell_type": "code",
      "execution_count": null,
      "metadata": {
        "id": "VjYy0F2gZIPR"
      },
      "outputs": [],
      "source": [
        "%cd /content\n",
        "!git clone -b dev https://github.com/camenduru/TeCH\n",
        "\n",
        "!pip install -q accelerate boto3 chumpy dataclasses dearpygui diffusers einops kornia\n",
        "!pip install -q lpips mediapipe mesh-to-sdf ninja omegaconf open3d pudb pyfqmr PyMCubes pymeshfix\n",
        "!pip install -q pymeshlab pyrender pyrr pytorch-lightning pyvista replicate rtree streamlit tensorboardX\n",
        "!pip install -q test-tube tetgen torch-ema torch-fidelity torchmetrics transformers trimesh xatlas yacs kaolin\n",
        "!pip install -q git+https://github.com/CompVis/taming-transformers.git@master#egg=taming-transformers\n",
        "!pip install -q git+https://github.com/openai/CLIP.git@main#egg=clip\n",
        "# !pip install -q git+https://github.com/facebookresearch/pytorch3d.git@v0.7.1\n",
        "!pip install -q https://huggingface.co/camenduru/pytorch3d-build/resolve/main/pytorch3d-0.7.4-cp310-cp310-linux_x86_64.whl\n",
        "\n",
        "%cd /content/TeCH"
      ]
    },
    {
      "cell_type": "code",
      "execution_count": null,
      "metadata": {},
      "outputs": [],
      "source": [
        "%cd /content/TeCH\n",
        "!mkdir -p /content/TeCH/data/body_data/smpl_related/models\n",
        "\n",
        "# SMPL (Male, Female)\n",
        "!echo -e \"\\nDownloading SMPL...\"\n",
        "!wget --post-data \"username=&password=\" 'https://download.is.tue.mpg.de/download.php?domain=smpl&sfile=SMPL_python_v.1.0.0.zip&resume=1' -O '/content/TeCH/data/body_data/smpl_related/models/SMPL_python_v.1.0.0.zip' --no-check-certificate --continue\n",
        "!unzip /content/TeCH/data/body_data/smpl_related/models/SMPL_python_v.1.0.0.zip -d /content/TeCH/data/body_data/smpl_related/models\n",
        "!mv /content/TeCH/data/body_data/smpl_related/models/smpl/models/basicModel_f_lbs_10_207_0_v1.0.0.pkl /content/TeCH/data/body_data/smpl_related/models/smpl/SMPL_FEMALE.pkl\n",
        "!mv /content/TeCH/data/body_data/smpl_related/models/smpl/models/basicmodel_m_lbs_10_207_0_v1.0.0.pkl /content/TeCH/data/body_data/smpl_related/models/smpl/SMPL_MALE.pkl\n",
        "%cd /content/TeCH/data/body_data/smpl_related/models\n",
        "!rm -rf *.zip __MACOSX smpl/models smpl/smpl_webuser\n",
        "%cd ../../..\n",
        "\n",
        "# SMPL (Neutral, from SMPLIFY)\n",
        "!echo -e \"\\nDownloading SMPLify...\"\n",
        "!wget --post-data \"username=&password=\" 'https://download.is.tue.mpg.de/download.php?domain=smplify&sfile=mpips_smplify_public_v2.zip&resume=1' -O '/content/TeCH/data/body_data/smpl_related/models/mpips_smplify_public_v2.zip' --no-check-certificate --continue\n",
        "!unzip /content/TeCH/data/body_data/smpl_related/models/mpips_smplify_public_v2.zip -d /content/TeCH/data/body_data/smpl_related/models\n",
        "!mv /content/TeCH/data/body_data/smpl_related/models/smplify_public/code/models/basicModel_neutral_lbs_10_207_0_v1.0.0.pkl /content/TeCH/data/body_data/smpl_related/models/smpl/SMPL_NEUTRAL.pkl\n",
        "%cd /content/TeCH/data/body_data/smpl_related/models\n",
        "!rm -rf *.zip smplify_public\n",
        "%cd ../../..\n",
        "\n",
        "# SMPL-X\n",
        "!echo -e \"\\nDownloading SMPL-X...\"\n",
        "!wget --post-data \"username=&password=\" 'https://download.is.tue.mpg.de/download.php?domain=smplx&sfile=models_smplx_v1_1.zip&resume=1' -O '/content/TeCH/data/body_data/smpl_related/models/models_smplx_v1_1.zip' --no-check-certificate --continue\n",
        "!unzip /content/TeCH/data/body_data/smpl_related/models/models_smplx_v1_1.zip -d /content/TeCH/data/body_data/smpl_related\n",
        "!rm -f /content/TeCH/data/body_data/smpl_related/models/models_smplx_v1_1.zip\n",
        "\n",
        "# ECON\n",
        "!echo -e \"\\nDownloading ECON...\"\n",
        "!wget --post-data \"username=&password=\" 'https://download.is.tue.mpg.de/download.php?domain=icon&sfile=econ_data.zip&resume=1' -O '/content/TeCH/data/body_data/econ_data.zip' --no-check-certificate --continue\n",
        "%cd /content/TeCH/data/body_data\n",
        "!unzip econ_data.zip\n",
        "!mv smpl_data smpl_related/\n",
        "!rm -f econ_data.zip\n",
        "%cd ..\n",
        "\n",
        "!mkdir -p /content/TeCH/data/body_data/HPS\n",
        "\n",
        "# PIXIE\n",
        "!echo -e \"\\nDownloading PIXIE...\"\n",
        "!wget --post-data \"username=&password=\" 'https://download.is.tue.mpg.de/download.php?domain=icon&sfile=HPS/pixie_data.zip&resume=1' -O '/content/TeCH/data/body_data/HPS/pixie_data.zip' --no-check-certificate --continue\n",
        "%cd /content/TeCH/data/body_data/HPS\n",
        "!unzip pixie_data.zip\n",
        "!rm -f pixie_data.zip\n",
        "%cd ../..\n",
        "\n",
        "# PyMAF-X\n",
        "!echo -e \"\\nDownloading PyMAF-X...\"\n",
        "!wget --post-data \"username=&password=\" 'https://download.is.tue.mpg.de/download.php?domain=icon&sfile=HPS/pymafx_data.zip&resume=1' -O '/content/TeCH/data/body_data/HPS/pymafx_data.zip' --no-check-certificate --continue\n",
        "%cd /content/TeCH/data/body_data/HPS\n",
        "!unzip pymafx_data.zip\n",
        "!rm -f pymafx_data.zip\n",
        "%cd ../..\n",
        "\n",
        "%cd /content/TeCH\n",
        "!mkdir -p data/dreambooth_data\n",
        "\n",
        "# SD v1-5 LDM checkpoint\n",
        "!echo -e \"\\nDownloading stable diffusion v1.5...\"\n",
        "!wget 'https://huggingface.co/runwayml/stable-diffusion-v1-5/resolve/main/v1-5-pruned-emaonly.ckpt' -O /content/TeCH/data/dreambooth_data/v1-5-pruned.ckpt\n",
        "\n",
        "# ECON\n",
        "!echo -e \"\\nDownloading dreambooth background images and regularization images...\"\n",
        "!wget 'https://www.dropbox.com/scl/fi/ucj961vt90hix12up2nyv/dreambooth_data.zip?rlkey=w1frc8hzkjskmnesokextp84r&dl=0' -O '/content/TeCH/data/dreambooth_data/dreambooth_data.zip' --no-check-certificate --continue\n",
        "%cd /content/TeCH/data/dreambooth_data\n",
        "!unzip /content/TeCH/data/dreambooth_data/dreambooth_data.zip\n",
        "!rm -f dreambooth_data.zip"
      ]
    },
    {
      "cell_type": "code",
      "execution_count": null,
      "metadata": {},
      "outputs": [],
      "source": [
        "%cd /content/TeCH\n",
        "!sh scripts/run.sh input/examples/name.img exp/examples/name"
      ]
    },
    {
      "cell_type": "code",
      "execution_count": null,
      "metadata": {},
      "outputs": [],
      "source": [
        "!pip install -q accelerate boto3 chumpy dataclasses dearpygui diffusers\n",
        "!pip install -q mesh-to-sdf pudb pyfqmr PyMCubes pymeshfix\n",
        "!pip install -q pymeshlab pyrender pyrr pyvista replicate rtree streamlit tensorboardX\n",
        "!pip install -q test-tube tetgen torch-ema torch-fidelity torchmetrics transformers xatlas yacs"
      ]
    },
    {
      "cell_type": "code",
      "execution_count": null,
      "metadata": {},
      "outputs": [],
      "source": [
        "!pip install -q torch==2.0.1+cu118 torchvision==0.15.2+cu118 torchaudio==2.0.2+cu118 torchtext==0.15.2 torchdata==0.6.1 --extra-index-url https://download.pytorch.org/whl/cu118 -U\n",
        "!pip install -q trimesh pytorch-lightning==1.9.1 einops open3d mediapipe lpips ninja kornia\n",
        "!pip install -q https://nvidia-kaolin.s3.us-east-2.amazonaws.com/torch-2.0.1_cu118/kaolin-0.14.0-cp310-cp310-linux_x86_64.whl\n",
        "!pip install -q https://huggingface.co/camenduru/pytorch3d-build/resolve/main/pytorch3d-0.7.4-cp310-cp310-linux_x86_64.whl\n",
        "\n",
        "!git clone https://github.com/ZHKKKe/MODNet /content/TeCH/thirdparties/MODNet\n",
        "!wget https://huggingface.co/camenduru/TeCH/resolve/main/body_data/modnet_photographic_portrait_matting.ckpt -O /content/TeCH/thirdparties/MODNet/pretrained/modnet_photographic_portrait_matting.ckpt\n",
        "\n",
        "%cd /content/TeCH/core/lib/freqencoder\n",
        "!python setup.py install\n",
        "\n",
        "%cd /content/TeCH/core/lib/gridencoder\n",
        "!python setup.py install\n",
        "\n",
        "%env PYTHONPATH=/content/TeCH"
      ]
    },
    {
      "cell_type": "code",
      "execution_count": null,
      "metadata": {},
      "outputs": [],
      "source": [
        "%cd /content/TeCH\n",
        "# Step 1: Preprocess image, get SMPL-X & normal estimation\n",
        "!python utils/body_utils/preprocess.py --in_path /content/human.png --out_dir /content/TeCH/exp/examples/name"
      ]
    },
    {
      "cell_type": "code",
      "execution_count": null,
      "metadata": {},
      "outputs": [],
      "source": [
        "%cd /content/TeCH\n",
        "# Step 2: Get BLIP prompt and gender, you can also use your own prompt\n",
        "!python utils/get_prompt_blip.py --img-path /content/TeCH/exp/examples/name/png/human_crop.png --out-path /content/TeCH/exp/examples/name/prompt.txt"
      ]
    },
    {
      "cell_type": "code",
      "execution_count": null,
      "metadata": {},
      "outputs": [],
      "source": [
        "!pip install -q omegaconf taming-transformers-rom1504 transformers\n",
        "# !pip install -q git+https://github.com/CompVis/taming-transformers.git@master#egg=taming-transformers\n",
        "!pip install -q git+https://github.com/openai/CLIP.git@main#egg=clip"
      ]
    },
    {
      "cell_type": "code",
      "execution_count": null,
      "metadata": {},
      "outputs": [],
      "source": [
        "%env PROMPT='man'\n",
        "%env GENDER='dancing'"
      ]
    },
    {
      "cell_type": "code",
      "execution_count": null,
      "metadata": {},
      "outputs": [],
      "source": [
        "# Step 3: Finetune Dreambooth model (minimal GPU memory requirement: 2x32G)\n",
        "!python utils/ldm_utils/main.py -t --data_root /content/TeCH/exp/examples/name/png/ --logdir /content/TeCH/exp/examples/name/ldm/ --reg_data_root /content/TeCH/data/dreambooth_data/class_man_images/ --bg_root /content/TeCH/data/dreambooth_data/bg_images/ --class_word man --no-test --gpus 0"
      ]
    },
    {
      "cell_type": "code",
      "execution_count": null,
      "metadata": {},
      "outputs": [],
      "source": [
        "# Convert Dreambooth model to diffusers format\n",
        "!python utils/ldm_utils/convert_ldm_to_diffusers.py --checkpoint_path /content/TeCH/exp/examples/name/ldm/_v1-finetune_unfrozen/checkpoints/last.ckpt --original_config_file utils/ldm_utils/configs/stable-diffusion/v1-inference.yaml --scheduler_type ddim --image_size 512 --prediction_type epsilon --dump_path /content/TeCH/exp/examples/name/sd_model"
      ]
    },
    {
      "cell_type": "code",
      "execution_count": null,
      "metadata": {},
      "outputs": [],
      "source": [
        "# Step 4: Run geometry stage (Run on a single GPU)\n",
        "!python core/main.py --config configs/tech_geometry.yaml --exp_dir $EXP_DIR --sub_name $SUBJECT_NAME\n",
        "!python utils/body_utils/postprocess.py --dir $EXP_DIR/obj --name $SUBJECT_NAME\n",
        "\n",
        "# Step 5: Run texture stage (Run on a single GPU)\n",
        "!python core/main.py --config configs/tech_texture.yaml --exp_dir $EXP_DIR --sub_name $SUBJECT_NAME\n",
        "\n",
        "# [Optional] export textured mesh with UV map, using atlas for UV unwraping.\n",
        "!python core/main.py --config configs/tech_texture_export.yaml --exp_dir $EXP_DIR --sub_name $SUBJECT_NAME --test"
      ]
    }
  ],
  "metadata": {
    "accelerator": "GPU",
    "colab": {
      "gpuType": "T4",
      "provenance": []
    },
    "kernelspec": {
      "display_name": "Python 3",
      "name": "python3"
    },
    "language_info": {
      "name": "python"
    }
  },
  "nbformat": 4,
  "nbformat_minor": 0
}
